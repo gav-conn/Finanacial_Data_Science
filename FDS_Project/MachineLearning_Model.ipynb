{
 "cells": [
  {
   "cell_type": "code",
   "execution_count": 108,
   "metadata": {},
   "outputs": [],
   "source": [
    "import xgboost as xgb\n",
    "import pandas as pd\n",
    "import sqlalchemy\n",
    "import yahooquery as yq\n",
    "from sklearn.model_selection import GridSearchCV, train_test_split\n",
    "from sklearn.ensemble import RandomForestRegressor\n",
    "import numpy as np\n",
    "import requests\n",
    "import matplotlib.pyplot as plt\n",
    "import datetime as dt"
   ]
  },
  {
   "cell_type": "code",
   "execution_count": 2,
   "metadata": {},
   "outputs": [],
   "source": [
    "engine = sqlalchemy.create_engine('sqlite:///' + \"Financial.db\", execution_options={\"sqlite_raw_colnames\": True})\n",
    "df_financial = pd.read_sql_table('FinancialDataJoined', engine)\n",
    "\n",
    "engine = sqlalchemy.create_engine('sqlite:///' + \"SEC_Filings.db\", execution_options={\"sqlite_raw_colnames\": True})\n",
    "df_sentiments = pd.read_sql_table('Aggregated_Sentiment_Scores', engine)\n",
    "df_SIC = pd.read_sql_table(\"10K_Data\", engine)\n",
    "df_SIC = df_SIC[['SIC', 'CIK']]\n",
    "\n",
    "agri = ['0100', '0200', '0900']\n",
    "fin = ['6172', '6199', '6200', '6211', '6221', '6282']\n",
    "air = ['4513', '4522', '4581']\n",
    "bank = ['6022', '6029', '6035', '6036', '6099']\n",
    "\n",
    "df_SIC['Industry'] = ''\n",
    "df_SIC.loc[df_SIC['SIC'].isin(agri), 'Industry'] = \"Agriculture\"\n",
    "df_SIC.loc[df_SIC['SIC'].isin(fin), 'Industry'] = \"Financial Services\"\n",
    "df_SIC.loc[df_SIC['SIC'].isin(air), 'Industry'] = \"Aviation\"\n",
    "df_SIC.loc[df_SIC['SIC'].isin(bank), 'Industry'] = \"Banking\""
   ]
  },
  {
   "cell_type": "code",
   "execution_count": 37,
   "metadata": {},
   "outputs": [],
   "source": [
    "aspect_counts=df_sentiments[['Industry', 'Aspect', 'Count']].groupby(['Industry', 'Aspect']).sum().values\n",
    "df_sentiments['Total Sentiment'] = df_sentiments['Count']*df_sentiments['Aggregated Sentiment']\n",
    "\n",
    "avg_sentiments = df_sentiments[['Industry', 'Aspect', 'Total Sentiment']].groupby(['Industry', 'Aspect']).sum()/aspect_counts\n",
    "avg_sentiments.reset_index(drop=False, inplace=True)\n",
    "avg_sentiments.rename(columns={'Total Sentiment': 'Average Sentiment'}, inplace=True)\n",
    "\n",
    "df_sentiments_avg = df_sentiments.merge(avg_sentiments, on=['Industry', 'Aspect'])\n",
    "df_sentiments_avg.drop(['Aggregated Sentiment', 'Average Mentions', 'Total Sentiment'], axis=1, inplace=True)"
   ]
  },
  {
   "cell_type": "code",
   "execution_count": 49,
   "metadata": {},
   "outputs": [],
   "source": [
    "tab = df_SIC.merge(df_sentiments_avg, on=\"Industry\", how=\"left\")\n",
    "\n",
    "df_pivot = pd.pivot_table(tab, values='Average Sentiment', index=['CIK', 'Year'], \n",
    "                          columns=['Aspect'], fill_value=0).reset_index(drop=False)\n",
    "ind = tab[['CIK', 'Year', 'Industry']].drop_duplicates(ignore_index=True)\n",
    "\n",
    "df_pivot = ind.merge(df_pivot, on=['CIK', 'Year'])\n",
    "df_financial['Year'] = df_financial['asOfDate'].dt.year+1\n",
    "df_pivot_joined = df_pivot.merge(df_financial, on=['CIK', 'Year'])\n",
    "\n",
    "ticker = df_pivot_joined.pop('Ticker')\n",
    "company  = df_pivot_joined.pop('Company')\n",
    "\n",
    "df_pivot_joined.insert(1, 'Company', company)\n",
    "df_pivot_joined.insert(2, 'Ticker', ticker)\n",
    "df_pivot_joined.drop(['asOfDate', 'date'], axis=1, inplace=True)"
   ]
  },
  {
   "cell_type": "code",
   "execution_count": 51,
   "metadata": {},
   "outputs": [],
   "source": [
    "df_stock = pd.DataFrame()\n",
    "\n",
    "for ticker in df_pivot_joined['Ticker'].unique():\n",
    "    tick = yq.Ticker(ticker)\n",
    "    df_stock = pd.concat([df_stock, tick.history(start='01-01-2019', interval='3mo')[0::4]], axis=0)\n",
    "\n",
    "df_stock = df_stock.pop(\"adjclose\").reset_index(drop=False)\n",
    "df_stock[\"Year\"] = df_stock[\"date\"].apply(lambda x: x.year)\n",
    "df_stock.pop(\"date\")\n",
    "\n",
    "# log return\n",
    "for ticker in df_stock['symbol'].unique():\n",
    "    df_stock.loc[df_stock['symbol']==ticker, 'Return'] = np.log(df_stock.loc[df_stock['symbol']==ticker, 'adjclose'].pct_change()+1)\n",
    "\n",
    "df_stock.dropna(inplace=True)\n",
    "df_stock.drop('adjclose', axis=1, inplace=True)\n",
    "df_stock = df_stock.rename(columns={\"symbol\": \"Ticker\"})"
   ]
  },
  {
   "cell_type": "code",
   "execution_count": 77,
   "metadata": {},
   "outputs": [],
   "source": [
    "# Function for API call\n",
    "def checkindicator(url):\n",
    "    r= requests.get(url)\n",
    "    r = r.json()\n",
    "    periods = r['series']['docs'][0]['period']\n",
    "    values = r['series']['docs'][0]['value']\n",
    "    dataset = r['series']['docs'][0]['dataset_name']\n",
    "    indicators = pd.DataFrame(values,index=periods)\n",
    "    indicators.columns = [dataset]\n",
    "    return indicators"
   ]
  },
  {
   "cell_type": "code",
   "execution_count": 85,
   "metadata": {},
   "outputs": [],
   "source": [
    "# Retrieve Interest Rate in DF\n",
    "interest = checkindicator('https://api.db.nomics.world/v22/series/FED/H15/RIFLGFCM03_N.A?observations=1')\n",
    "\n",
    "# Add 1 Day to each Date\n",
    "interest.index = pd.to_datetime(interest.index) + dt.timedelta(days=1)\n",
    "\n",
    "# Clean DataFrame\n",
    "interest.reset_index(inplace=True)\n",
    "interest.rename(columns={'index':'Year', 'Selected Interest Rates': 'Interest'},inplace=True)\n",
    "interest['Year'] = pd.to_datetime(interest['Year'])\n",
    "interest['Year'] = interest['Year'].dt.year\n",
    "interest = interest.loc[interest['Year'] > 2018]\n",
    "interest = interest.reset_index(drop=True)\n",
    "\n",
    "# Download CPI from DBnomics\n",
    "cpi = checkindicator('https://api.db.nomics.world/v22/series/IMF/CPI/A.US.PCPI_IX?observations=1')\n",
    "\n",
    "\n",
    "# Convert Index to Datetime of Format 'y'\n",
    "cpi.index= pd.to_datetime(cpi.index)\n",
    "\n",
    "# Clean DataFrame\n",
    "cpi.reset_index(inplace=True)\n",
    "cpi.rename(columns={'index': 'Year', 'Consumer Price Index (CPI)': 'CPI'},inplace=True)\n",
    "new_row = {'Year': '2023-01-01', 'CPI': 137.199015846883} # Estimate taken from  https://editor.nomics.world/series?series_id=IMF%2FCPI%2FA.US.PCPI_IX&source=dbnomics\n",
    "cpi.loc[len(cpi)] = new_row\n",
    "cpi['Year'] = pd.to_datetime(cpi['Year'])\n",
    "cpi['Year'] = cpi['Year'].dt.year\n",
    "cpi = cpi.loc[cpi['Year'] > 2018]\n",
    "cpi['CPI'] = cpi['CPI'].pct_change()\n",
    "cpi = cpi.reset_index(drop=True)\n",
    "cpi.dropna(inplace=True) # remove 2019 row\n",
    "# Download GDP from DBnomics\n",
    "gdp = checkindicator('https://api.db.nomics.world/v22/series/OECD/DP_LIVE/USA.GDP.TOT.MLN_USD.A?observations=1')\n",
    "\n",
    "# Convert Index to Datetime\n",
    "gdp.reset_index(inplace=True)\n",
    "gdp.rename(columns={'index': 'Year', 'OECD Data Live dataset': 'GDP'},inplace=True)\n",
    "gdp['Year'] = pd.to_datetime(gdp['Year'])\n",
    "\n",
    "# Add Row for recent GDP\n",
    "new_row = {'Year': '2022-01-01', 'GDP': 25462722.0} # https://fred.stlouisfed.org/series/GDP\n",
    "gdp.loc[len(gdp)] = new_row\n",
    "new_row2 = {'Year': '2023-01-01', 'GDP': 26137992.0} # https://fred.stlouisfed.org/series/GDP\n",
    "gdp.loc[len(gdp)] = new_row2\n",
    "gdp['Year'] = pd.to_datetime(gdp['Year'])\n",
    "\n",
    "# # Only Retain Year in Date\n",
    "gdp['Year'] = gdp['Year'].dt.year\n",
    "# Clean DataFrame\n",
    "gdp = gdp.loc[gdp['Year'] > 2018]\n",
    "gdp['GDP'] = gdp['GDP'].pct_change()\n",
    "gdp.dropna(inplace=True)\n",
    "gdp = gdp.reset_index(drop=True)\n",
    "\n",
    "cci = checkindicator('https://api.db.nomics.world/v22/series/OECD/DP_LIVE/USA.CCI.AMPLITUD.LTRENDIDX.M?observations=1')\n",
    "cci.reset_index(inplace=True)\n",
    "cci.rename(columns={'index': 'Year', 'OECD Data Live dataset': 'CCI'},inplace=True)\n",
    "\n",
    "# Extract End of Year Date from Year\n",
    "cci['Year'] = pd.to_datetime(cci['Year']).dt.year\n",
    "cci.drop_duplicates(subset='Year', keep='last', inplace=True)\n",
    "cci = cci.drop(cci.tail(1).index, inplace=False)\n",
    "cci['Year'].astype(int)\n",
    "cci['Year'] = cci['Year'] + 1\n",
    "pd.to_datetime(cci['Year'])\n",
    "cci = cci.loc[cci['Year'] > 2019]\n",
    "cci = cci.reset_index(drop=True)\n",
    "cci['CCI'] = cci['CCI']/100\n",
    "df_macro = gdp"
   ]
  },
  {
   "cell_type": "code",
   "execution_count": 91,
   "metadata": {},
   "outputs": [
    {
     "data": {
      "text/html": [
       "<div>\n",
       "<style scoped>\n",
       "    .dataframe tbody tr th:only-of-type {\n",
       "        vertical-align: middle;\n",
       "    }\n",
       "\n",
       "    .dataframe tbody tr th {\n",
       "        vertical-align: top;\n",
       "    }\n",
       "\n",
       "    .dataframe thead th {\n",
       "        text-align: right;\n",
       "    }\n",
       "</style>\n",
       "<table border=\"1\" class=\"dataframe\">\n",
       "  <thead>\n",
       "    <tr style=\"text-align: right;\">\n",
       "      <th></th>\n",
       "      <th>Year</th>\n",
       "      <th>GDP</th>\n",
       "    </tr>\n",
       "  </thead>\n",
       "  <tbody>\n",
       "    <tr>\n",
       "      <th>0</th>\n",
       "      <td>2020</td>\n",
       "      <td>-0.014990</td>\n",
       "    </tr>\n",
       "    <tr>\n",
       "      <th>1</th>\n",
       "      <td>2021</td>\n",
       "      <td>0.107054</td>\n",
       "    </tr>\n",
       "    <tr>\n",
       "      <th>2</th>\n",
       "      <td>2022</td>\n",
       "      <td>0.092114</td>\n",
       "    </tr>\n",
       "    <tr>\n",
       "      <th>3</th>\n",
       "      <td>2023</td>\n",
       "      <td>0.026520</td>\n",
       "    </tr>\n",
       "  </tbody>\n",
       "</table>\n",
       "</div>"
      ],
      "text/plain": [
       "   Year       GDP\n",
       "0  2020 -0.014990\n",
       "1  2021  0.107054\n",
       "2  2022  0.092114\n",
       "3  2023  0.026520"
      ]
     },
     "execution_count": 91,
     "metadata": {},
     "output_type": "execute_result"
    }
   ],
   "source": [
    "df_macro"
   ]
  },
  {
   "cell_type": "code",
   "execution_count": 86,
   "metadata": {},
   "outputs": [],
   "source": [
    "df_copy = df_pivot_joined.copy()"
   ]
  },
  {
   "cell_type": "code",
   "execution_count": 89,
   "metadata": {},
   "outputs": [],
   "source": [
    "df_pivot_joined = df_copy\n",
    "\n",
    "df_pivot_joined = df_pivot_joined.merge(df_macro, on='Year')\n",
    "df_train = df_pivot_joined.merge(df_stock, on=['Ticker', 'Year'])\n",
    "\n",
    "df_train.drop([\"CIK\", \"Company\", \"Ticker\"], axis=1, inplace=True)\n",
    "df_train = pd.get_dummies(df_train, drop_first=True)\n",
    "\n",
    "df_train.dropna(inplace=True)\n",
    "# Drop outliers which had undue influence over the model output\n",
    "# Correspond to companies which went 20x or value fell by 95% over course of a year\n",
    "df_train = df_train.loc[abs(df_train['Return'])<3] \n",
    "\n",
    "Return = df_train.pop(\"Return\")\n",
    "df_train.drop(axis=1, labels=['Year'], inplace=True)"
   ]
  },
  {
   "cell_type": "code",
   "execution_count": 97,
   "metadata": {},
   "outputs": [],
   "source": [
    "X_train, X_test, y_train, y_test = train_test_split(\n",
    "    df_train, Return, test_size=0.3, random_state=20\n",
    ")"
   ]
  },
  {
   "cell_type": "code",
   "execution_count": 113,
   "metadata": {},
   "outputs": [
    {
     "name": "stdout",
     "output_type": "stream",
     "text": [
      "Best parameters: {'learning_rate': 0.05, 'max_depth': 3, 'n_estimators': 100}\n",
      "Best score: 0.480\n"
     ]
    }
   ],
   "source": [
    "model_xgb = xgb.XGBRegressor()\n",
    "\n",
    "param_grid = {\n",
    "    'learning_rate': [0.01, 0.05, 0.1, 0.5, 1],\n",
    "    'max_depth': [3, 5, 10, 20],\n",
    "    'n_estimators': [10, 50, 100, 250]\n",
    "}\n",
    "\n",
    "grid_search = GridSearchCV(estimator=model_xgb, param_grid=param_grid, scoring='explained_variance', cv=10, n_jobs=-1)\n",
    "grid_search.fit(X_train, y_train)\n",
    "print(f\"Best parameters: {grid_search.best_params_}\")\n",
    "print(f\"Best score: {grid_search.best_score_:.3f}\")"
   ]
  },
  {
   "cell_type": "code",
   "execution_count": 102,
   "metadata": {},
   "outputs": [
    {
     "data": {
      "text/plain": [
       "<matplotlib.collections.PathCollection at 0x20383121be0>"
      ]
     },
     "execution_count": 102,
     "metadata": {},
     "output_type": "execute_result"
    },
    {
     "data": {
      "image/png": "[encoded data removed]",
      "text/plain": [
       "<Figure size 640x480 with 1 Axes>"
      ]
     },
     "metadata": {},
     "output_type": "display_data"
    }
   ],
   "source": [
    "plt.scatter(y_test, grid_search.predict(X_test))"
   ]
  },
  {
   "cell_type": "code",
   "execution_count": 104,
   "metadata": {},
   "outputs": [
    {
     "data": {
      "text/plain": [
       "0.177339175555611"
      ]
     },
     "execution_count": 104,
     "metadata": {},
     "output_type": "execute_result"
    }
   ],
   "source": [
    "np.mean((y_test-grid_search.predict(X_test))**2)"
   ]
  },
  {
   "cell_type": "code",
   "execution_count": 106,
   "metadata": {},
   "outputs": [
    {
     "ename": "NotFittedError",
     "evalue": "need to call fit or load_model beforehand",
     "output_type": "error",
     "traceback": [
      "\u001b[1;31m---------------------------------------------------------------------------\u001b[0m",
      "\u001b[1;31mNotFittedError\u001b[0m                            Traceback (most recent call last)",
      "\u001b[1;32m~\\AppData\\Local\\Temp\\ipykernel_5296\\2857321605.py\u001b[0m in \u001b[0;36m<module>\u001b[1;34m\u001b[0m\n\u001b[1;32m----> 1\u001b[1;33m \u001b[0mxgb\u001b[0m\u001b[1;33m.\u001b[0m\u001b[0mplot_importance\u001b[0m\u001b[1;33m(\u001b[0m\u001b[0mmodel_xgb\u001b[0m\u001b[1;33m)\u001b[0m\u001b[1;33m\u001b[0m\u001b[1;33m\u001b[0m\u001b[0m\n\u001b[0m",
      "\u001b[1;32mc:\\Users\\Gavin\\anaconda3\\lib\\site-packages\\xgboost\\plotting.py\u001b[0m in \u001b[0;36mplot_importance\u001b[1;34m(booster, ax, height, xlim, ylim, title, xlabel, ylabel, fmap, importance_type, max_num_features, grid, show_values, **kwargs)\u001b[0m\n\u001b[0;32m     80\u001b[0m \u001b[1;33m\u001b[0m\u001b[0m\n\u001b[0;32m     81\u001b[0m     \u001b[1;32mif\u001b[0m \u001b[0misinstance\u001b[0m\u001b[1;33m(\u001b[0m\u001b[0mbooster\u001b[0m\u001b[1;33m,\u001b[0m \u001b[0mXGBModel\u001b[0m\u001b[1;33m)\u001b[0m\u001b[1;33m:\u001b[0m\u001b[1;33m\u001b[0m\u001b[1;33m\u001b[0m\u001b[0m\n\u001b[1;32m---> 82\u001b[1;33m         importance = booster.get_booster().get_score(\n\u001b[0m\u001b[0;32m     83\u001b[0m             importance_type=importance_type, fmap=fmap)\n\u001b[0;32m     84\u001b[0m     \u001b[1;32melif\u001b[0m \u001b[0misinstance\u001b[0m\u001b[1;33m(\u001b[0m\u001b[0mbooster\u001b[0m\u001b[1;33m,\u001b[0m \u001b[0mBooster\u001b[0m\u001b[1;33m)\u001b[0m\u001b[1;33m:\u001b[0m\u001b[1;33m\u001b[0m\u001b[1;33m\u001b[0m\u001b[0m\n",
      "\u001b[1;32mc:\\Users\\Gavin\\anaconda3\\lib\\site-packages\\xgboost\\sklearn.py\u001b[0m in \u001b[0;36mget_booster\u001b[1;34m(self)\u001b[0m\n\u001b[0;32m    647\u001b[0m             \u001b[1;32mfrom\u001b[0m \u001b[0msklearn\u001b[0m\u001b[1;33m.\u001b[0m\u001b[0mexceptions\u001b[0m \u001b[1;32mimport\u001b[0m \u001b[0mNotFittedError\u001b[0m\u001b[1;33m\u001b[0m\u001b[1;33m\u001b[0m\u001b[0m\n\u001b[0;32m    648\u001b[0m \u001b[1;33m\u001b[0m\u001b[0m\n\u001b[1;32m--> 649\u001b[1;33m             \u001b[1;32mraise\u001b[0m \u001b[0mNotFittedError\u001b[0m\u001b[1;33m(\u001b[0m\u001b[1;34m\"need to call fit or load_model beforehand\"\u001b[0m\u001b[1;33m)\u001b[0m\u001b[1;33m\u001b[0m\u001b[1;33m\u001b[0m\u001b[0m\n\u001b[0m\u001b[0;32m    650\u001b[0m         \u001b[1;32mreturn\u001b[0m \u001b[0mself\u001b[0m\u001b[1;33m.\u001b[0m\u001b[0m_Booster\u001b[0m\u001b[1;33m\u001b[0m\u001b[1;33m\u001b[0m\u001b[0m\n\u001b[0;32m    651\u001b[0m \u001b[1;33m\u001b[0m\u001b[0m\n",
      "\u001b[1;31mNotFittedError\u001b[0m: need to call fit or load_model beforehand"
     ]
    }
   ],
   "source": [
    "xgb.plot_importance(model_xgb)"
   ]
  },
  {
   "cell_type": "code",
   "execution_count": 115,
   "metadata": {},
   "outputs": [
    {
     "name": "stderr",
     "output_type": "stream",
     "text": [
      "c:\\Users\\Gavin\\anaconda3\\lib\\site-packages\\sklearn\\utils\\validation.py:1688: FutureWarning: Feature names only support names that are all strings. Got feature names with dtypes: ['quoted_name', 'str']. An error will be raised in 1.2.\n",
      "  warnings.warn(\n"
     ]
    },
    {
     "name": "stdout",
     "output_type": "stream",
     "text": [
      "Best parameters: {'ccp_alpha': 0, 'criterion': 'absolute_error', 'max_depth': 10, 'max_features': 'sqrt', 'n_estimators': 100}\n",
      "Best Score: 0.5142399138501611\n"
     ]
    }
   ],
   "source": [
    "RF = RandomForestRegressor()\n",
    "\n",
    "paramgrid = {\n",
    "             'n_estimators': [20, 100, 150, 250, 300, 500],\n",
    "             'criterion': ['squared_error', 'absolute_error'],\n",
    "             'max_features': ['sqrt', 'log2'],\n",
    "             'max_depth': [3, 5, 10, 15, 25],\n",
    "             }\n",
    "\n",
    "G_CV = GridSearchCV(RF, param_grid=paramgrid, scoring='explained_variance', n_jobs=-1, cv=5)\n",
    "G_CV.fit(X_train, y_train)\n",
    "print(f\"Best parameters: {G_CV.best_params_}\")\n",
    "print(f\"Best Score: {G_CV.best_score_}\")"
   ]
  },
  {
   "cell_type": "code",
   "execution_count": 116,
   "metadata": {},
   "outputs": [
    {
     "data": {
      "text/plain": [
       "{0, 1, 2}"
      ]
     },
     "execution_count": 116,
     "metadata": {},
     "output_type": "execute_result"
    }
   ],
   "source": [
    "{0, 1, 1, 2}"
   ]
  }
 ],
 "metadata": {
  "kernelspec": {
   "display_name": "base",
   "language": "python",
   "name": "python3"
  },
  "language_info": {
   "codemirror_mode": {
    "name": "ipython",
    "version": 3
   },
   "file_extension": ".py",
   "mimetype": "text/x-python",
   "name": "python",
   "nbconvert_exporter": "python",
   "pygments_lexer": "ipython3",
   "version": "3.9.13"
  },
  "orig_nbformat": 4
 },
 "nbformat": 4,
 "nbformat_minor": 2
}
