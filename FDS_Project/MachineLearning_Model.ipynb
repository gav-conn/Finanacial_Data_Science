{
 "cells": [
  {
   "cell_type": "code",
   "execution_count": 51,
   "metadata": {},
   "outputs": [],
   "source": [
    "import xgboost as xgb\n",
    "import pandas as pd\n",
    "import sqlalchemy\n",
    "import yahooquery as yq\n",
    "from sklearn.model_selection import GridSearchCV, train_test_split\n",
    "from sklearn.ensemble import RandomForestRegressor\n",
    "import numpy as np\n",
    "import requests\n",
    "import matplotlib.pyplot as plt\n",
    "import datetime as dt"
   ]
  },
  {
   "cell_type": "code",
   "execution_count": 53,
   "metadata": {},
   "outputs": [],
   "source": [
    "engine = sqlalchemy.create_engine('sqlite:///' + \"Financial.db\", execution_options={\"sqlite_raw_colnames\": True})\n",
    "df_financial = pd.read_sql_table('FinancialDataJoined', engine)\n",
    "\n",
    "engine = sqlalchemy.create_engine('sqlite:///' + \"SEC_Filings.db\", execution_options={\"sqlite_raw_colnames\": True})\n",
    "df_sentiments = pd.read_sql_table('Aggregated_Sentiment_Scores', engine)\n",
    "df_SIC = pd.read_sql_table(\"10K_Data\", engine)\n",
    "df_SIC = df_SIC[['SIC', 'CIK']]\n",
    "\n",
    "agri = ['0100', '0200', '0900']\n",
    "fin = ['6172', '6199', '6200', '6211', '6221', '6282']\n",
    "air = ['4513', '4522', '4581']\n",
    "bank = ['6022', '6029', '6035', '6036', '6099']\n",
    "\n",
    "df_SIC['Industry'] = ''\n",
    "df_SIC.loc[df_SIC['SIC'].isin(agri), 'Industry'] = \"Agriculture\"\n",
    "df_SIC.loc[df_SIC['SIC'].isin(fin), 'Industry'] = \"Financial Services\"\n",
    "df_SIC.loc[df_SIC['SIC'].isin(air), 'Industry'] = \"Aviation\"\n",
    "df_SIC.loc[df_SIC['SIC'].isin(bank), 'Industry'] = \"Banking\""
   ]
  },
  {
   "cell_type": "code",
   "execution_count": 54,
   "metadata": {},
   "outputs": [],
   "source": [
    "aspect_counts=df_sentiments[['Industry', 'Aspect', 'Count']].groupby(['Industry', 'Aspect']).sum().values\n",
    "df_sentiments['Total Sentiment'] = df_sentiments['Count']*df_sentiments['Aggregated Sentiment']\n",
    "\n",
    "avg_sentiments = df_sentiments[['Industry', 'Aspect', 'Total Sentiment']].groupby(['Industry', 'Aspect']).sum()/aspect_counts\n",
    "avg_sentiments.reset_index(drop=False, inplace=True)\n",
    "avg_sentiments.rename(columns={'Total Sentiment': 'Average Sentiment'}, inplace=True)\n",
    "\n",
    "df_sentiments_avg = df_sentiments.merge(avg_sentiments, on=['Industry', 'Aspect'])\n",
    "df_sentiments_avg.drop(['Aggregated Sentiment', 'Average Mentions', 'Total Sentiment'], axis=1, inplace=True)"
   ]
  },
  {
   "cell_type": "code",
   "execution_count": 55,
   "metadata": {},
   "outputs": [],
   "source": [
    "tab = df_SIC.merge(df_sentiments_avg, on=\"Industry\", how=\"left\")\n",
    "\n",
    "df_pivot = pd.pivot_table(tab, values='Average Sentiment', index=['CIK', 'Year'], \n",
    "                          columns=['Aspect'], fill_value=0).reset_index(drop=False)\n",
    "ind = tab[['CIK', 'Year', 'Industry']].drop_duplicates(ignore_index=True)\n",
    "\n",
    "df_pivot = ind.merge(df_pivot, on=['CIK', 'Year'])\n",
    "df_financial['Year'] = df_financial['asOfDate'].dt.year+1\n",
    "df_pivot_joined = df_pivot.merge(df_financial, on=['CIK', 'Year'])\n",
    "\n",
    "ticker = df_pivot_joined.pop('Ticker')\n",
    "company  = df_pivot_joined.pop('Company')\n",
    "\n",
    "df_pivot_joined.insert(1, 'Company', company)\n",
    "df_pivot_joined.insert(2, 'Ticker', ticker)\n",
    "df_pivot_joined.drop(['asOfDate', 'date'], axis=1, inplace=True)"
   ]
  },
  {
   "cell_type": "code",
   "execution_count": 57,
   "metadata": {},
   "outputs": [],
   "source": [
    "df_stock = pd.DataFrame()\n",
    "\n",
    "for ticker in df_pivot_joined['Ticker'].unique():\n",
    "    tick = yq.Ticker(ticker)\n",
    "    df_stock = pd.concat([df_stock, tick.history(start='01-01-2019', interval='3mo')[0::4]], axis=0)\n",
    "\n",
    "df_stock = df_stock.pop(\"adjclose\").reset_index(drop=False)\n",
    "df_stock[\"Year\"] = df_stock[\"date\"].apply(lambda x: x.year)\n",
    "df_stock.pop(\"date\")\n",
    "\n",
    "# log return\n",
    "for ticker in df_stock['symbol'].unique():\n",
    "    df_stock.loc[df_stock['symbol']==ticker, 'Return'] = np.log(df_stock.loc[df_stock['symbol']==ticker, 'adjclose'].pct_change()+1)\n",
    "\n",
    "df_stock.dropna(inplace=True)\n",
    "df_stock.drop('adjclose', axis=1, inplace=True)\n",
    "df_stock = df_stock.rename(columns={\"symbol\": \"Ticker\"})"
   ]
  },
  {
   "cell_type": "code",
   "execution_count": 58,
   "metadata": {},
   "outputs": [],
   "source": [
    "df_ml_full = df_pivot_joined.merge(df_stock, on=['Ticker', 'Year'])\n",
    "\n",
    "df_ml_full.drop([\"CIK\", \"Company\", \"Ticker\"], axis=1, inplace=True)\n",
    "df_ml_full = pd.get_dummies(df_ml_full, drop_first=True)\n",
    "\n",
    "df_ml_full.dropna(inplace=True)\n",
    "# Drop outliers which had undue influence over the model output\n",
    "# Correspond to companies which went 20x or value fell by 95% over course of a year\n",
    "df_ml_full = df_ml_full.loc[abs(df_ml_full['Return'])<3] \n",
    "\n",
    "Return = df_ml_full.pop(\"Return\")\n",
    "df_ml_full.drop(axis=1, labels=['Year'], inplace=True)"
   ]
  },
  {
   "cell_type": "code",
   "execution_count": 59,
   "metadata": {},
   "outputs": [
    {
     "data": {
      "text/html": [
       "<div>\n",
       "<style scoped>\n",
       "    .dataframe tbody tr th:only-of-type {\n",
       "        vertical-align: middle;\n",
       "    }\n",
       "\n",
       "    .dataframe tbody tr th {\n",
       "        vertical-align: top;\n",
       "    }\n",
       "\n",
       "    .dataframe thead th {\n",
       "        text-align: right;\n",
       "    }\n",
       "</style>\n",
       "<table border=\"1\" class=\"dataframe\">\n",
       "  <thead>\n",
       "    <tr style=\"text-align: right;\">\n",
       "      <th></th>\n",
       "      <th>algorithm</th>\n",
       "      <th>artificial intelligence</th>\n",
       "      <th>automation</th>\n",
       "      <th>bots</th>\n",
       "      <th>machine learning</th>\n",
       "      <th>BasicEPS</th>\n",
       "      <th>BTM</th>\n",
       "      <th>Gearing</th>\n",
       "      <th>CashToAssets</th>\n",
       "      <th>logMktCap</th>\n",
       "      <th>Industry_Aviation</th>\n",
       "      <th>Industry_Banking</th>\n",
       "      <th>Industry_Financial Services</th>\n",
       "    </tr>\n",
       "  </thead>\n",
       "  <tbody>\n",
       "    <tr>\n",
       "      <th>0</th>\n",
       "      <td>0.319512</td>\n",
       "      <td>0.000000</td>\n",
       "      <td>0.309676</td>\n",
       "      <td>0.000000</td>\n",
       "      <td>0.000000</td>\n",
       "      <td>1.91</td>\n",
       "      <td>0.644012</td>\n",
       "      <td>0.000108</td>\n",
       "      <td>0.077450</td>\n",
       "      <td>18.965636</td>\n",
       "      <td>0</td>\n",
       "      <td>1</td>\n",
       "      <td>0</td>\n",
       "    </tr>\n",
       "    <tr>\n",
       "      <th>1</th>\n",
       "      <td>0.319512</td>\n",
       "      <td>0.585402</td>\n",
       "      <td>0.309676</td>\n",
       "      <td>0.292425</td>\n",
       "      <td>0.000000</td>\n",
       "      <td>1.70</td>\n",
       "      <td>0.739600</td>\n",
       "      <td>0.000052</td>\n",
       "      <td>0.069589</td>\n",
       "      <td>18.954042</td>\n",
       "      <td>0</td>\n",
       "      <td>1</td>\n",
       "      <td>0</td>\n",
       "    </tr>\n",
       "    <tr>\n",
       "      <th>2</th>\n",
       "      <td>0.319512</td>\n",
       "      <td>0.585402</td>\n",
       "      <td>0.309676</td>\n",
       "      <td>0.292425</td>\n",
       "      <td>0.657992</td>\n",
       "      <td>2.40</td>\n",
       "      <td>0.520391</td>\n",
       "      <td>0.000042</td>\n",
       "      <td>0.126535</td>\n",
       "      <td>19.436657</td>\n",
       "      <td>0</td>\n",
       "      <td>1</td>\n",
       "      <td>0</td>\n",
       "    </tr>\n",
       "    <tr>\n",
       "      <th>3</th>\n",
       "      <td>0.319512</td>\n",
       "      <td>0.585402</td>\n",
       "      <td>0.309676</td>\n",
       "      <td>0.000000</td>\n",
       "      <td>0.657992</td>\n",
       "      <td>0.00</td>\n",
       "      <td>0.415587</td>\n",
       "      <td>0.000035</td>\n",
       "      <td>0.117596</td>\n",
       "      <td>19.757168</td>\n",
       "      <td>0</td>\n",
       "      <td>1</td>\n",
       "      <td>0</td>\n",
       "    </tr>\n",
       "    <tr>\n",
       "      <th>4</th>\n",
       "      <td>0.319512</td>\n",
       "      <td>0.000000</td>\n",
       "      <td>0.309676</td>\n",
       "      <td>0.000000</td>\n",
       "      <td>0.000000</td>\n",
       "      <td>2.46</td>\n",
       "      <td>0.856992</td>\n",
       "      <td>0.064933</td>\n",
       "      <td>0.040148</td>\n",
       "      <td>20.107702</td>\n",
       "      <td>0</td>\n",
       "      <td>1</td>\n",
       "      <td>0</td>\n",
       "    </tr>\n",
       "    <tr>\n",
       "      <th>...</th>\n",
       "      <td>...</td>\n",
       "      <td>...</td>\n",
       "      <td>...</td>\n",
       "      <td>...</td>\n",
       "      <td>...</td>\n",
       "      <td>...</td>\n",
       "      <td>...</td>\n",
       "      <td>...</td>\n",
       "      <td>...</td>\n",
       "      <td>...</td>\n",
       "      <td>...</td>\n",
       "      <td>...</td>\n",
       "      <td>...</td>\n",
       "    </tr>\n",
       "    <tr>\n",
       "      <th>1500</th>\n",
       "      <td>0.000000</td>\n",
       "      <td>0.496900</td>\n",
       "      <td>0.309323</td>\n",
       "      <td>0.000000</td>\n",
       "      <td>0.000000</td>\n",
       "      <td>-0.32</td>\n",
       "      <td>1.698842</td>\n",
       "      <td>0.041039</td>\n",
       "      <td>0.387220</td>\n",
       "      <td>18.649532</td>\n",
       "      <td>0</td>\n",
       "      <td>0</td>\n",
       "      <td>0</td>\n",
       "    </tr>\n",
       "    <tr>\n",
       "      <th>1501</th>\n",
       "      <td>0.000000</td>\n",
       "      <td>0.496900</td>\n",
       "      <td>0.309323</td>\n",
       "      <td>0.000000</td>\n",
       "      <td>0.000000</td>\n",
       "      <td>0.00</td>\n",
       "      <td>2.304134</td>\n",
       "      <td>0.041510</td>\n",
       "      <td>0.475300</td>\n",
       "      <td>18.236752</td>\n",
       "      <td>0</td>\n",
       "      <td>0</td>\n",
       "      <td>0</td>\n",
       "    </tr>\n",
       "    <tr>\n",
       "      <th>1502</th>\n",
       "      <td>0.000000</td>\n",
       "      <td>0.496900</td>\n",
       "      <td>0.309323</td>\n",
       "      <td>0.000000</td>\n",
       "      <td>0.000000</td>\n",
       "      <td>-0.01</td>\n",
       "      <td>0.009387</td>\n",
       "      <td>0.533187</td>\n",
       "      <td>0.010238</td>\n",
       "      <td>19.633952</td>\n",
       "      <td>0</td>\n",
       "      <td>0</td>\n",
       "      <td>0</td>\n",
       "    </tr>\n",
       "    <tr>\n",
       "      <th>1503</th>\n",
       "      <td>0.000000</td>\n",
       "      <td>0.496900</td>\n",
       "      <td>0.309323</td>\n",
       "      <td>0.000000</td>\n",
       "      <td>0.000000</td>\n",
       "      <td>-0.16</td>\n",
       "      <td>-0.341639</td>\n",
       "      <td>0.096214</td>\n",
       "      <td>0.045755</td>\n",
       "      <td>18.801838</td>\n",
       "      <td>0</td>\n",
       "      <td>0</td>\n",
       "      <td>0</td>\n",
       "    </tr>\n",
       "    <tr>\n",
       "      <th>1504</th>\n",
       "      <td>0.000000</td>\n",
       "      <td>0.496900</td>\n",
       "      <td>0.309323</td>\n",
       "      <td>0.000000</td>\n",
       "      <td>0.000000</td>\n",
       "      <td>-0.03</td>\n",
       "      <td>1.307562</td>\n",
       "      <td>0.677369</td>\n",
       "      <td>0.010047</td>\n",
       "      <td>17.884391</td>\n",
       "      <td>0</td>\n",
       "      <td>0</td>\n",
       "      <td>0</td>\n",
       "    </tr>\n",
       "  </tbody>\n",
       "</table>\n",
       "<p>1491 rows × 13 columns</p>\n",
       "</div>"
      ],
      "text/plain": [
       "      algorithm  artificial intelligence  automation      bots  \\\n",
       "0      0.319512                 0.000000    0.309676  0.000000   \n",
       "1      0.319512                 0.585402    0.309676  0.292425   \n",
       "2      0.319512                 0.585402    0.309676  0.292425   \n",
       "3      0.319512                 0.585402    0.309676  0.000000   \n",
       "4      0.319512                 0.000000    0.309676  0.000000   \n",
       "...         ...                      ...         ...       ...   \n",
       "1500   0.000000                 0.496900    0.309323  0.000000   \n",
       "1501   0.000000                 0.496900    0.309323  0.000000   \n",
       "1502   0.000000                 0.496900    0.309323  0.000000   \n",
       "1503   0.000000                 0.496900    0.309323  0.000000   \n",
       "1504   0.000000                 0.496900    0.309323  0.000000   \n",
       "\n",
       "      machine learning  BasicEPS       BTM   Gearing  CashToAssets  logMktCap  \\\n",
       "0             0.000000      1.91  0.644012  0.000108      0.077450  18.965636   \n",
       "1             0.000000      1.70  0.739600  0.000052      0.069589  18.954042   \n",
       "2             0.657992      2.40  0.520391  0.000042      0.126535  19.436657   \n",
       "3             0.657992      0.00  0.415587  0.000035      0.117596  19.757168   \n",
       "4             0.000000      2.46  0.856992  0.064933      0.040148  20.107702   \n",
       "...                ...       ...       ...       ...           ...        ...   \n",
       "1500          0.000000     -0.32  1.698842  0.041039      0.387220  18.649532   \n",
       "1501          0.000000      0.00  2.304134  0.041510      0.475300  18.236752   \n",
       "1502          0.000000     -0.01  0.009387  0.533187      0.010238  19.633952   \n",
       "1503          0.000000     -0.16 -0.341639  0.096214      0.045755  18.801838   \n",
       "1504          0.000000     -0.03  1.307562  0.677369      0.010047  17.884391   \n",
       "\n",
       "      Industry_Aviation  Industry_Banking  Industry_Financial Services  \n",
       "0                     0                 1                            0  \n",
       "1                     0                 1                            0  \n",
       "2                     0                 1                            0  \n",
       "3                     0                 1                            0  \n",
       "4                     0                 1                            0  \n",
       "...                 ...               ...                          ...  \n",
       "1500                  0                 0                            0  \n",
       "1501                  0                 0                            0  \n",
       "1502                  0                 0                            0  \n",
       "1503                  0                 0                            0  \n",
       "1504                  0                 0                            0  \n",
       "\n",
       "[1491 rows x 13 columns]"
      ]
     },
     "execution_count": 59,
     "metadata": {},
     "output_type": "execute_result"
    }
   ],
   "source": [
    "df_ml_full"
   ]
  },
  {
   "cell_type": "code",
   "execution_count": 60,
   "metadata": {},
   "outputs": [],
   "source": [
    "X_train, X_test, y_train, y_test = train_test_split(\n",
    "    df_ml_full, Return, test_size=0.3, random_state=20\n",
    ")"
   ]
  },
  {
   "cell_type": "code",
   "execution_count": 61,
   "metadata": {},
   "outputs": [
    {
     "name": "stdout",
     "output_type": "stream",
     "text": [
      "Best parameters: {'colsample_bytree': 0.75, 'learning_rate': 0.01, 'max_depth': 3, 'n_estimators': 250}\n",
      "Best score: 0.293\n"
     ]
    }
   ],
   "source": [
    "model_xgb = xgb.XGBRegressor()\n",
    "\n",
    "param_grid = {\n",
    "    'learning_rate': [0.01, 0.05, 0.1, 0.5, 1],\n",
    "    'max_depth': [3, 5, 10, 20],\n",
    "    'n_estimators': [10, 50, 100, 250],\n",
    "    'colsample_bytree': [0.75, 1]\n",
    "}\n",
    "\n",
    "grid_search = GridSearchCV(estimator=model_xgb, param_grid=param_grid, scoring='explained_variance', cv=10, n_jobs=-1)\n",
    "grid_search.fit(X_train, y_train)\n",
    "print(f\"Best parameters: {grid_search.best_params_}\")\n",
    "print(f\"Best score: {grid_search.best_score_:.3f}\")"
   ]
  },
  {
   "cell_type": "code",
   "execution_count": 1,
   "metadata": {},
   "outputs": [
    {
     "ename": "NameError",
     "evalue": "name 'plt' is not defined",
     "output_type": "error",
     "traceback": [
      "\u001b[1;31m---------------------------------------------------------------------------\u001b[0m",
      "\u001b[1;31mNameError\u001b[0m                                 Traceback (most recent call last)",
      "\u001b[1;32m~\\AppData\\Local\\Temp\\ipykernel_15996\\3938864928.py\u001b[0m in \u001b[0;36m<module>\u001b[1;34m\u001b[0m\n\u001b[1;32m----> 1\u001b[1;33m \u001b[0mplt\u001b[0m\u001b[1;33m.\u001b[0m\u001b[0mscatter\u001b[0m\u001b[1;33m(\u001b[0m\u001b[0my_test\u001b[0m\u001b[1;33m,\u001b[0m \u001b[0mgrid_search\u001b[0m\u001b[1;33m.\u001b[0m\u001b[0mpredict\u001b[0m\u001b[1;33m(\u001b[0m\u001b[0mX_test\u001b[0m\u001b[1;33m)\u001b[0m\u001b[1;33m,\u001b[0m \u001b[0malpha\u001b[0m\u001b[1;33m=\u001b[0m\u001b[1;36m0.2\u001b[0m\u001b[1;33m)\u001b[0m\u001b[1;33m\u001b[0m\u001b[1;33m\u001b[0m\u001b[0m\n\u001b[0m",
      "\u001b[1;31mNameError\u001b[0m: name 'plt' is not defined"
     ]
    }
   ],
   "source": [
    "plt.scatter(y_test, grid_search.predict(X_test), alpha=0.2)"
   ]
  },
  {
   "cell_type": "code",
   "execution_count": 63,
   "metadata": {},
   "outputs": [
    {
     "data": {
      "text/plain": [
       "0.18809293137163127"
      ]
     },
     "execution_count": 63,
     "metadata": {},
     "output_type": "execute_result"
    }
   ],
   "source": [
    "np.mean((y_test-grid_search.predict(X_test))**2)"
   ]
  },
  {
   "cell_type": "code",
   "execution_count": 64,
   "metadata": {},
   "outputs": [
    {
     "data": {
      "text/plain": [
       "<AxesSubplot:title={'center':'Feature importance'}, xlabel='F score', ylabel='Features'>"
      ]
     },
     "execution_count": 64,
     "metadata": {},
     "output_type": "execute_result"
    },
    {
     "data": {
      "image/png": "[encoded data removed]",
      "text/plain": [
       "<Figure size 640x480 with 1 Axes>"
      ]
     },
     "metadata": {},
     "output_type": "display_data"
    }
   ],
   "source": [
    "model_xgb = xgb.XGBRegressor(kwargs=grid_search.best_params_)\n",
    "model_xgb.fit(X_train, y_train)\n",
    "\n",
    "xgb.plot_importance(model_xgb, importance_type='weight')"
   ]
  },
  {
   "cell_type": "code",
   "execution_count": 65,
   "metadata": {},
   "outputs": [
    {
     "name": "stderr",
     "output_type": "stream",
     "text": [
      "c:\\Users\\Gavin\\anaconda3\\lib\\site-packages\\sklearn\\utils\\validation.py:1688: FutureWarning: Feature names only support names that are all strings. Got feature names with dtypes: ['quoted_name', 'str']. An error will be raised in 1.2.\n",
      "  warnings.warn(\n"
     ]
    },
    {
     "name": "stdout",
     "output_type": "stream",
     "text": [
      "Best parameters: {'criterion': 'absolute_error', 'max_depth': 10, 'max_features': 'sqrt', 'n_estimators': 300}\n",
      "Best Score: 0.35479709152646965\n"
     ]
    }
   ],
   "source": [
    "RF = RandomForestRegressor()\n",
    "\n",
    "paramgrid = {\n",
    "             'n_estimators': [20, 100, 150, 250, 300, 500],\n",
    "             'criterion': ['squared_error', 'absolute_error'],\n",
    "             'max_features': ['sqrt', 'log2'],\n",
    "             'max_depth': [3, 5, 10, 15, 25],\n",
    "             }\n",
    "\n",
    "G_CV = GridSearchCV(RF, param_grid=paramgrid, scoring='explained_variance', n_jobs=-1, cv=5)\n",
    "G_CV.fit(X_train, y_train)\n",
    "print(f\"Best parameters: {G_CV.best_params_}\")\n",
    "print(f\"Best Score: {G_CV.best_score_}\")"
   ]
  },
  {
   "cell_type": "code",
   "execution_count": 66,
   "metadata": {},
   "outputs": [
    {
     "name": "stderr",
     "output_type": "stream",
     "text": [
      "c:\\Users\\Gavin\\anaconda3\\lib\\site-packages\\sklearn\\utils\\validation.py:1688: FutureWarning: Feature names only support names that are all strings. Got feature names with dtypes: ['quoted_name', 'str']. An error will be raised in 1.2.\n",
      "  warnings.warn(\n"
     ]
    },
    {
     "data": {
      "text/plain": [
       "<matplotlib.collections.PathCollection at 0x1ad02041d90>"
      ]
     },
     "execution_count": 66,
     "metadata": {},
     "output_type": "execute_result"
    },
    {
     "data": {
      "image/png": "[encoded data removed]",
      "text/plain": [
       "<Figure size 640x480 with 1 Axes>"
      ]
     },
     "metadata": {},
     "output_type": "display_data"
    }
   ],
   "source": [
    "plt.scatter(y_test, G_CV.predict(X_test))"
   ]
  }
 ],
 "metadata": {
  "kernelspec": {
   "display_name": "base",
   "language": "python",
   "name": "python3"
  },
  "language_info": {
   "codemirror_mode": {
    "name": "ipython",
    "version": 3
   },
   "file_extension": ".py",
   "mimetype": "text/x-python",
   "name": "python",
   "nbconvert_exporter": "python",
   "pygments_lexer": "ipython3",
   "version": "3.9.13"
  },
  "orig_nbformat": 4
 },
 "nbformat": 4,
 "nbformat_minor": 2
}
