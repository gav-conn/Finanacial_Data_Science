{
 "cells": [
  {
   "cell_type": "code",
   "execution_count": 2,
   "metadata": {},
   "outputs": [],
   "source": [
    "import pandas as pd\n",
    "import requests\n",
    "# import pickle\n",
    "import sqlalchemy"
   ]
  },
  {
   "cell_type": "code",
   "execution_count": 9,
   "metadata": {},
   "outputs": [
    {
     "data": {
      "text/html": [
       "<div>\n",
       "<style scoped>\n",
       "    .dataframe tbody tr th:only-of-type {\n",
       "        vertical-align: middle;\n",
       "    }\n",
       "\n",
       "    .dataframe tbody tr th {\n",
       "        vertical-align: top;\n",
       "    }\n",
       "\n",
       "    .dataframe thead th {\n",
       "        text-align: right;\n",
       "    }\n",
       "</style>\n",
       "<table border=\"1\" class=\"dataframe\">\n",
       "  <thead>\n",
       "    <tr style=\"text-align: right;\">\n",
       "      <th></th>\n",
       "      <th>CIK</th>\n",
       "      <th>Company</th>\n",
       "    </tr>\n",
       "  </thead>\n",
       "  <tbody>\n",
       "    <tr>\n",
       "      <th>0</th>\n",
       "      <td>0001527383</td>\n",
       "      <td>BankGuam Holding Co</td>\n",
       "    </tr>\n",
       "    <tr>\n",
       "      <th>1</th>\n",
       "      <td>0001527383</td>\n",
       "      <td>BankGuam Holding Co</td>\n",
       "    </tr>\n",
       "    <tr>\n",
       "      <th>2</th>\n",
       "      <td>0001527383</td>\n",
       "      <td>BankGuam Holding Co</td>\n",
       "    </tr>\n",
       "    <tr>\n",
       "      <th>3</th>\n",
       "      <td>0001527383</td>\n",
       "      <td>BankGuam Holding Co</td>\n",
       "    </tr>\n",
       "    <tr>\n",
       "      <th>4</th>\n",
       "      <td>0001527383</td>\n",
       "      <td>BankGuam Holding Co</td>\n",
       "    </tr>\n",
       "    <tr>\n",
       "      <th>...</th>\n",
       "      <td>...</td>\n",
       "      <td>...</td>\n",
       "    </tr>\n",
       "    <tr>\n",
       "      <th>3912</th>\n",
       "      <td>0001488419</td>\n",
       "      <td>Sino Agro Food, Inc.</td>\n",
       "    </tr>\n",
       "    <tr>\n",
       "      <th>3913</th>\n",
       "      <td>0001488419</td>\n",
       "      <td>Sino Agro Food, Inc.</td>\n",
       "    </tr>\n",
       "    <tr>\n",
       "      <th>3914</th>\n",
       "      <td>0001488419</td>\n",
       "      <td>Sino Agro Food, Inc.</td>\n",
       "    </tr>\n",
       "    <tr>\n",
       "      <th>3915</th>\n",
       "      <td>0001488419</td>\n",
       "      <td>Sino Agro Food, Inc.</td>\n",
       "    </tr>\n",
       "    <tr>\n",
       "      <th>3916</th>\n",
       "      <td>0001488419</td>\n",
       "      <td>Sino Agro Food, Inc.</td>\n",
       "    </tr>\n",
       "  </tbody>\n",
       "</table>\n",
       "<p>3917 rows × 2 columns</p>\n",
       "</div>"
      ],
      "text/plain": [
       "             CIK               Company\n",
       "0     0001527383   BankGuam Holding Co\n",
       "1     0001527383   BankGuam Holding Co\n",
       "2     0001527383   BankGuam Holding Co\n",
       "3     0001527383   BankGuam Holding Co\n",
       "4     0001527383   BankGuam Holding Co\n",
       "...          ...                   ...\n",
       "3912  0001488419  Sino Agro Food, Inc.\n",
       "3913  0001488419  Sino Agro Food, Inc.\n",
       "3914  0001488419  Sino Agro Food, Inc.\n",
       "3915  0001488419  Sino Agro Food, Inc.\n",
       "3916  0001488419  Sino Agro Food, Inc.\n",
       "\n",
       "[3917 rows x 2 columns]"
      ]
     },
     "execution_count": 9,
     "metadata": {},
     "output_type": "execute_result"
    }
   ],
   "source": [
    "# Retrieve Mentions Data as DataFrame\n",
    "db_name = \"SEC_Filings.db\"\n",
    "table_name = \"10K_Data\"\n",
    "\n",
    "engine = sqlalchemy.create_engine('sqlite:///' + db_name, execution_options={\"sqlite_raw_colnames\": True})\n",
    "df = pd.read_sql_table(table_name, engine)\n",
    "\n",
    "df = df.drop(['SIC', 'Filing_Date', 'Filing_Link', 'Accession_No', 'Filing_Document_Text'], axis=1)"
   ]
  },
  {
   "cell_type": "code",
   "execution_count": 47,
   "metadata": {},
   "outputs": [],
   "source": [
    "pd.set_option('display.max_rows', None)\n",
    "\n",
    "headers = {'User-Agent': \"evanmcgarry7@gmail.com\"}\n",
    "\n",
    "tickers_cik = requests.get(\"https://www.sec.gov/files/company_tickers.json\", headers=headers)\n",
    "\n",
    "tickers_cik = pd.json_normalize(pd.json_normalize(tickers_cik.json(), max_level=0).values[0])\n",
    "tickers_cik[\"cik_str\"] = tickers_cik[\"cik_str\"].astype(str).str.zfill(10)\n",
    "tickers_cik.columns= ['CIK', 'Ticker', 'Company_Name']\n",
    "tickers_cik.drop(['Company_Name'], axis=1, inplace=True)\n",
    "\n",
    "tickers_cik['CIK'].astype(int)\n",
    "df['CIK'].astype(int)\n",
    "\n",
    "df_full = df.merge(tickers_cik, how='left', on='CIK')\n",
    "df_full.loc[df_full['Ticker'].isna()]\n",
    "df_full.dropna(inplace=True)\n",
    "df_full.reset_index(drop=True, inplace=True)\n",
    "df_full = df_full.drop_duplicates()\n",
    "\n",
    "tickers_list = []\n",
    "for company in df_full['Company'].unique():\n",
    "    tickers_list.append(df_full[df_full['Company']==company].sort_values(by='Ticker').head(1).values.squeeze())\n",
    "\n",
    "df_tickers = pd.DataFrame(tickers_list, columns=['CIK', 'Company', 'Ticker'])"
   ]
  },
  {
   "cell_type": "code",
   "execution_count": 49,
   "metadata": {},
   "outputs": [
    {
     "data": {
      "text/plain": [
       "532"
      ]
     },
     "execution_count": 49,
     "metadata": {},
     "output_type": "execute_result"
    }
   ],
   "source": [
    "# Insert Tickers Data into Table in Database\n",
    "db_name2 = \"SEC_Filings.db\"\n",
    "table_name2 = \"Ticker_Table\"\n",
    "\n",
    "engine2 = sqlalchemy.create_engine('sqlite:///' + db_name, execution_options={\"sqlite_raw_colnames\": True})\n",
    "df_tickers.to_sql(table_name2, engine2, if_exists='replace', index=False)"
   ]
  }
 ],
 "metadata": {
  "kernelspec": {
   "display_name": "base",
   "language": "python",
   "name": "python3"
  },
  "language_info": {
   "codemirror_mode": {
    "name": "ipython",
    "version": 3
   },
   "file_extension": ".py",
   "mimetype": "text/x-python",
   "name": "python",
   "nbconvert_exporter": "python",
   "pygments_lexer": "ipython3",
   "version": "3.9.13"
  },
  "orig_nbformat": 4
 },
 "nbformat": 4,
 "nbformat_minor": 2
}
