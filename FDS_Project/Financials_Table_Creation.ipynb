{
 "cells": [
  {
   "cell_type": "code",
   "execution_count": 4,
   "metadata": {},
   "outputs": [],
   "source": [
    "import sqlalchemy\n",
    "import pandas as pd\n",
    "import yahooquery as yq\n",
    "import sqlite3 as lite"
   ]
  },
  {
   "cell_type": "code",
   "execution_count": 5,
   "metadata": {},
   "outputs": [],
   "source": [
    "engine = sqlalchemy.create_engine('sqlite:///' + \"SEC_Filings.db\", execution_options={\"sqlite_raw_colnames\": True})\n",
    "df_ticker = pd.read_sql_table('Ticker_Table', engine)\n",
    "df_fin_bal = pd.DataFrame()\n",
    "df_fin_inc = pd.DataFrame()\n",
    "bal_vars = ['asOfDate', 'CashAndCashEquivalents','TotalAssets','TotalDebt','TangibleBookValue','TotalCapitalization']\n",
    "inc_vars = ['asOfDate', 'BasicEPS']\n",
    "# bal_sheet_error = []\n",
    "bal_sheet_error_tickers = []\n",
    "inc_stat_error_tickers = []\n",
    "\n",
    "for ticker in df_ticker['Ticker']:\n",
    "    tick = yq.Ticker(ticker)\n",
    "    df_bal_tick = tick.balance_sheet(frequency='a', trailing=False)\n",
    "    df_inc_tick = tick.income_statement(frequency='a', trailing=False)\n",
    "\n",
    "    try:\n",
    "        df_bal_tick = df_bal_tick[bal_vars]\n",
    "        df_fin_bal = pd.concat([df_fin_bal, df_bal_tick], axis=0)\n",
    "\n",
    "    except:\n",
    "        if type(df_bal_tick) == pd.DataFrame:\n",
    "            # bal_sheet_error.append(f'{ticker}: Missing columns {[var for var in bal_vars if var not in df_bal.columns]}')\n",
    "            bal_sheet_error_tickers.append(ticker)\n",
    "        else:\n",
    "            # bal_sheet_error.append(f'{ticker} Balance sheet not Available')\n",
    "            bal_sheet_error_tickers.append(ticker)\n",
    "\n",
    "    try:\n",
    "        df_inc_tick = df_inc_tick[inc_vars]\n",
    "        df_fin_inc = pd.concat([df_fin_inc, df_inc_tick], axis=0)\n",
    "\n",
    "    except:\n",
    "        if type(df_inc_tick) == pd.DataFrame:\n",
    "            # print([var for var in inc_vars if var not in df_inc.columns])\n",
    "            inc_stat_error_tickers.append(ticker)\n",
    "        else:\n",
    "            inc_stat_error_tickers.append(ticker)\n",
    "            \n",
    "df_fin_bal.reset_index(drop=False, inplace=True)\n",
    "df_fin_inc.reset_index(drop=False, inplace=True)\n",
    "\n",
    "# Only take rows with if matched in both dataframes\n",
    "df_fin_joined = df_fin_inc.merge(df_fin_bal, how='inner', on=['symbol', 'asOfDate'])"
   ]
  },
  {
   "cell_type": "code",
   "execution_count": 7,
   "metadata": {},
   "outputs": [
    {
     "data": {
      "text/plain": [
       "1608"
      ]
     },
     "execution_count": 7,
     "metadata": {},
     "output_type": "execute_result"
    }
   ],
   "source": [
    "df_fin_cleaned = pd.DataFrame()\n",
    "# backfill missing values based on company\n",
    "for ticker in df_fin_joined['symbol'].unique():\n",
    "    df_fin_cleaned = pd.concat([df_fin_cleaned, df_fin_joined.loc[df_fin_joined['symbol']==ticker].sort_values(\n",
    "                        by='asOfDate', ascending=True).fillna(method='ffill')])\n",
    "\n",
    "# Remove rows with incomplete data\n",
    "missing_ticks = df_fin_cleaned[df_fin_cleaned.isnull().any(axis=1)]['symbol'].unique()\n",
    "df_fin_cleaned = df_fin_cleaned.loc[~df_fin_cleaned['symbol'].isin(missing_ticks)].reset_index(drop=True)\n",
    "\n",
    "df_fin_cleaned = df_ticker.merge(df_fin_cleaned, how=\"right\", left_on=\"Ticker\", right_on=\"symbol\").drop(\"symbol\", axis=1)\n",
    "\n",
    "# Add to database\n",
    "conn = lite.connect('Financial.db')\n",
    "conn.close()\n",
    "engine_fin = sqlalchemy.create_engine('sqlite:///' + 'Financial.db', execution_options={\"sqlite_raw_colnames\": True})\n",
    "df_fin_cleaned.to_sql(\"FinancialDataJoined\", engine_fin, if_exists='replace', index=False)"
   ]
  }
 ],
 "metadata": {
  "language_info": {
   "name": "python"
  },
  "orig_nbformat": 4
 },
 "nbformat": 4,
 "nbformat_minor": 2
}
