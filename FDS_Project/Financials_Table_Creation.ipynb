{
 "cells": [
  {
   "cell_type": "code",
   "execution_count": 45,
   "metadata": {},
   "outputs": [],
   "source": [
    "import sqlalchemy\n",
    "import pandas as pd\n",
    "import yahooquery as yq\n",
    "import sqlite3 as lite\n",
    "from dateutil.relativedelta import relativedelta\n",
    "import numpy as np\n",
    "import datetime as dt"
   ]
  },
  {
   "cell_type": "code",
   "execution_count": 3,
   "metadata": {},
   "outputs": [],
   "source": [
    "tick = yq.Ticker('aapl')\n",
    "df_bal_tick = tick.balance_sheet(frequency='a', trailing=False)"
   ]
  },
  {
   "cell_type": "code",
   "execution_count": 4,
   "metadata": {},
   "outputs": [
    {
     "data": {
      "text/html": [
       "<div>\n",
       "<style scoped>\n",
       "    .dataframe tbody tr th:only-of-type {\n",
       "        vertical-align: middle;\n",
       "    }\n",
       "\n",
       "    .dataframe tbody tr th {\n",
       "        vertical-align: top;\n",
       "    }\n",
       "\n",
       "    .dataframe thead th {\n",
       "        text-align: right;\n",
       "    }\n",
       "</style>\n",
       "<table border=\"1\" class=\"dataframe\">\n",
       "  <thead>\n",
       "    <tr style=\"text-align: right;\">\n",
       "      <th></th>\n",
       "      <th>asOfDate</th>\n",
       "      <th>OrdinarySharesNumber</th>\n",
       "      <th>CapitalStock</th>\n",
       "    </tr>\n",
       "    <tr>\n",
       "      <th>symbol</th>\n",
       "      <th></th>\n",
       "      <th></th>\n",
       "      <th></th>\n",
       "    </tr>\n",
       "  </thead>\n",
       "  <tbody>\n",
       "    <tr>\n",
       "      <th>aapl</th>\n",
       "      <td>2019-09-30</td>\n",
       "      <td>1.777294e+10</td>\n",
       "      <td>4.517400e+10</td>\n",
       "    </tr>\n",
       "    <tr>\n",
       "      <th>aapl</th>\n",
       "      <td>2020-09-30</td>\n",
       "      <td>1.697676e+10</td>\n",
       "      <td>5.077900e+10</td>\n",
       "    </tr>\n",
       "    <tr>\n",
       "      <th>aapl</th>\n",
       "      <td>2021-09-30</td>\n",
       "      <td>1.642679e+10</td>\n",
       "      <td>5.736500e+10</td>\n",
       "    </tr>\n",
       "    <tr>\n",
       "      <th>aapl</th>\n",
       "      <td>2022-09-30</td>\n",
       "      <td>1.594342e+10</td>\n",
       "      <td>6.484900e+10</td>\n",
       "    </tr>\n",
       "  </tbody>\n",
       "</table>\n",
       "</div>"
      ],
      "text/plain": [
       "         asOfDate  OrdinarySharesNumber  CapitalStock\n",
       "symbol                                               \n",
       "aapl   2019-09-30          1.777294e+10  4.517400e+10\n",
       "aapl   2020-09-30          1.697676e+10  5.077900e+10\n",
       "aapl   2021-09-30          1.642679e+10  5.736500e+10\n",
       "aapl   2022-09-30          1.594342e+10  6.484900e+10"
      ]
     },
     "execution_count": 4,
     "metadata": {},
     "output_type": "execute_result"
    }
   ],
   "source": [
    "df_bal_tick[['asOfDate','OrdinarySharesNumber', 'CapitalStock']]"
   ]
  },
  {
   "cell_type": "code",
   "execution_count": 6,
   "metadata": {},
   "outputs": [],
   "source": [
    "engine = sqlalchemy.create_engine('sqlite:///' + \"SEC_Filings.db\", execution_options={\"sqlite_raw_colnames\": True})\n",
    "df_ticker = pd.read_sql_table('Ticker_Table', engine)\n",
    "df_fin_bal = pd.DataFrame()\n",
    "df_fin_inc = pd.DataFrame()\n",
    "df_fin_stock = pd.DataFrame()\n",
    "bal_vars = ['asOfDate', 'CashAndCashEquivalents','TotalAssets','TotalDebt','TangibleBookValue','OrdinarySharesNumber']\n",
    "inc_vars = ['asOfDate', 'BasicEPS']\n",
    "stock_vars = ['date', 'adjclose']\n",
    "# bal_sheet_error = []\n",
    "bal_sheet_error_tickers = []\n",
    "inc_stat_error_tickers = []\n",
    "\n",
    "for ticker in df_ticker['Ticker']:\n",
    "    tick = yq.Ticker(ticker)\n",
    "    df_bal_tick = tick.balance_sheet(frequency='a', trailing=False)\n",
    "    df_inc_tick = tick.income_statement(frequency='a', trailing=False)\n",
    "    try: # some companies without pricing info included in list\n",
    "        df_stock_tick = tick.history(interval='1d', start='2019-04-01').reset_index(level=1)\n",
    "        df_stock_tick['date'] = df_stock_tick['date'] - relativedelta(days=1) \n",
    "    except:\n",
    "        continue\n",
    "    try:\n",
    "        df_bal_tick = df_bal_tick[bal_vars]\n",
    "        df_fin_bal = pd.concat([df_fin_bal, df_bal_tick], axis=0)\n",
    "\n",
    "    except:\n",
    "        if type(df_bal_tick) == pd.DataFrame:\n",
    "            # bal_sheet_error.append(f'{ticker}: Missing columns {[var for var in bal_vars if var not in df_bal.columns]}')\n",
    "            bal_sheet_error_tickers.append(ticker)\n",
    "        else:\n",
    "            # bal_sheet_error.append(f'{ticker} Balance sheet not Available')\n",
    "            bal_sheet_error_tickers.append(ticker)\n",
    "\n",
    "    try:\n",
    "        df_inc_tick = df_inc_tick[inc_vars]\n",
    "        df_fin_inc = pd.concat([df_fin_inc, df_inc_tick], axis=0)\n",
    "\n",
    "    except:\n",
    "        if type(df_inc_tick) == pd.DataFrame:\n",
    "            # print([var for var in inc_vars if var not in df_inc.columns])\n",
    "            inc_stat_error_tickers.append(ticker)\n",
    "        else:\n",
    "            inc_stat_error_tickers.append(ticker)\n",
    "\n",
    "    df_stock_tick = df_stock_tick[stock_vars]\n",
    "    df_fin_stock = pd.concat([df_fin_stock, df_stock_tick], axis=0)\n",
    "\n",
    "            \n",
    "df_fin_bal.reset_index(drop=False, inplace=True)\n",
    "df_fin_inc.reset_index(drop=False, inplace=True)\n",
    "df_fin_stock.reset_index(drop=False, inplace=True)\n",
    "\n"
   ]
  },
  {
   "cell_type": "code",
   "execution_count": 66,
   "metadata": {},
   "outputs": [],
   "source": [
    "# Remove companies with 0 assets or 0 cash\n",
    "df_fin_bal = df_fin_bal.loc[(df_fin_bal['TotalAssets']!=0) & (df_fin_bal['CashAndCashEquivalents'])!=0]\n",
    "df_fin_inc.fillna(value=0, inplace=True)\n",
    "\n",
    "# Only take rows with if matched in both dataframes\n",
    "df_fin_joined = df_fin_inc.merge(df_fin_bal, how='inner', on=['symbol', 'asOfDate'])"
   ]
  },
  {
   "cell_type": "code",
   "execution_count": 81,
   "metadata": {},
   "outputs": [],
   "source": [
    "df_fin_stock = pd.DataFrame()\n",
    "\n",
    "for ticker in df_ticker['Ticker']:\n",
    "    tick = yq.Ticker(ticker)\n",
    "    try: # some companies without pricing info included in list\n",
    "        df_stock_tick = tick.history(interval='1mo', start='2019-04-01').reset_index(level=1)\n",
    "        df_stock_tick['date'] = df_stock_tick['date'] - relativedelta(days=1) \n",
    "    except:\n",
    "        continue\n",
    "    df_stock_tick = df_stock_tick[stock_vars]\n",
    "    df_fin_stock = pd.concat([df_fin_stock, df_stock_tick], axis=0)\n",
    "df_fin_stock.reset_index(drop=False, inplace=True)\n",
    "\n",
    "df_fin_stock = df_fin_stock.loc[df_fin_stock['date'].apply(type)==dt.date]\n",
    "df_fin_stock['date'] = df_fin_stock['date'].astype('datetime64[ns]')\n",
    "\n",
    "df_fin_joined = df_fin_joined.merge(df_fin_stock, how='inner', left_on=['symbol', 'asOfDate'], right_on=['symbol', 'date'])"
   ]
  },
  {
   "cell_type": "code",
   "execution_count": 84,
   "metadata": {},
   "outputs": [],
   "source": [
    "df_fin_cleaned = pd.DataFrame()\n",
    "# backfill missing values based on company\n",
    "for ticker in df_fin_joined['symbol'].unique():\n",
    "    df_fin_cleaned = pd.concat([df_fin_cleaned, df_fin_joined.loc[df_fin_joined['symbol']==ticker].sort_values(\n",
    "                        by='asOfDate', ascending=True).fillna(method='ffill')])\n",
    "\n",
    "# Remove rows with incomplete data\n",
    "missing_ticks = df_fin_cleaned[df_fin_cleaned.isnull().any(axis=1)]['symbol'].unique()\n",
    "df_fin_cleaned = df_fin_cleaned.loc[~df_fin_cleaned['symbol'].isin(missing_ticks)].reset_index(drop=True)\n",
    "\n",
    "df_fin_cleaned = df_ticker.merge(df_fin_cleaned, how=\"right\", left_on=\"Ticker\", right_on=\"symbol\").drop(\"symbol\", axis=1)"
   ]
  },
  {
   "cell_type": "code",
   "execution_count": 85,
   "metadata": {},
   "outputs": [],
   "source": [
    "df_fin_cleaned['MarketCap'] = df_fin_cleaned['OrdinarySharesNumber'] * df_fin_cleaned['adjclose']\n",
    "df_fin_cleaned['BTM'] = df_fin_cleaned['TangibleBookValue']/df_fin_cleaned['MarketCap']\n",
    "df_fin_cleaned['Gearing'] = df_fin_cleaned['TotalDebt']/df_fin_cleaned['TotalAssets']\n",
    "df_fin_cleaned['CashToAssets'] = df_fin_cleaned['CashAndCashEquivalents']/df_fin_cleaned['TotalAssets']\n",
    "df_fin_cleaned['logMktCap'] = df_fin_cleaned['MarketCap'].apply(np.log)\n",
    "df_fin_cleaned.drop(['CashAndCashEquivalents', 'TotalAssets', 'TotalDebt', 'TangibleBookValue', 'OrdinarySharesNumber', 'adjclose', 'MarketCap'], axis=1, inplace=True)"
   ]
  },
  {
   "cell_type": "code",
   "execution_count": 87,
   "metadata": {},
   "outputs": [
    {
     "data": {
      "text/plain": [
       "1573"
      ]
     },
     "execution_count": 87,
     "metadata": {},
     "output_type": "execute_result"
    }
   ],
   "source": [
    "# Add to database\n",
    "conn = lite.connect('Financial.db')\n",
    "conn.close()\n",
    "engine_fin = sqlalchemy.create_engine('sqlite:///' + 'Financial.db', execution_options={\"sqlite_raw_colnames\": True})\n",
    "df_fin_cleaned.to_sql(\"FinancialDataJoined\", engine_fin, if_exists='replace', index=False)"
   ]
  }
 ],
 "metadata": {
  "kernelspec": {
   "display_name": "base",
   "language": "python",
   "name": "python3"
  },
  "language_info": {
   "codemirror_mode": {
    "name": "ipython",
    "version": 3
   },
   "file_extension": ".py",
   "mimetype": "text/x-python",
   "name": "python",
   "nbconvert_exporter": "python",
   "pygments_lexer": "ipython3",
   "version": "3.9.13"
  },
  "orig_nbformat": 4
 },
 "nbformat": 4,
 "nbformat_minor": 2
}
